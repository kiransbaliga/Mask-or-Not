{
  "nbformat": 4,
  "nbformat_minor": 0,
  "metadata": {
    "colab": {
      "name": "classificationproject.ipynb",
      "provenance": [],
      "collapsed_sections": []
    },
    "kernelspec": {
      "name": "python3",
      "display_name": "Python 3"
    },
    "language_info": {
      "name": "python"
    }
  },
  "cells": [
    {
      "cell_type": "code",
      "metadata": {
        "colab": {
          "base_uri": "https://localhost:8080/"
        },
        "id": "yVzE_rYj4Yme",
        "outputId": "1b6a2097-427f-4815-8353-52af3270d777"
      },
      "source": [
        "from google.colab import drive\n",
        "drive.mount('/content/drive')"
      ],
      "execution_count": null,
      "outputs": [
        {
          "output_type": "stream",
          "name": "stdout",
          "text": [
            "Drive already mounted at /content/drive; to attempt to forcibly remount, call drive.mount(\"/content/drive\", force_remount=True).\n"
          ]
        }
      ]
    },
    {
      "cell_type": "code",
      "metadata": {
        "colab": {
          "base_uri": "https://localhost:8080/"
        },
        "id": "Raa8BYFa9qUz",
        "outputId": "34280751-c333-4e37-9c26-34570d18b10e"
      },
      "source": [
        "cd /content/drive/MyDrive/DataSets"
      ],
      "execution_count": null,
      "outputs": [
        {
          "output_type": "stream",
          "name": "stdout",
          "text": [
            "/content/drive/MyDrive/DataSets\n"
          ]
        }
      ]
    },
    {
      "cell_type": "code",
      "metadata": {
        "colab": {
          "base_uri": "https://localhost:8080/"
        },
        "id": "b4yrHHAy9rYq",
        "outputId": "e28358d0-d77e-441e-98f1-168fc8258c52"
      },
      "source": [
        "import tensorflow\n",
        "from keras.models import load_model\n",
        "from keras_preprocessing import image\n",
        "import numpy as np\n",
        "import cv2,os\n",
        "from keras.utils import np_utils\n",
        "from keras.models import Sequential\n",
        "from keras.layers import Dense,Activation,Flatten,Dropout\n",
        "from keras.layers import Conv2D,MaxPooling2D\n",
        "from keras.callbacks import ModelCheckpoint\n",
        "from sklearn.model_selection import train_test_split\n",
        "import matplotlib.pyplot as plt\n",
        "\n"
      ],
      "execution_count": null,
      "outputs": [
        {
          "output_type": "stream",
          "name": "stdout",
          "text": [
            "2.6.0\n"
          ]
        }
      ]
    },
    {
      "cell_type": "code",
      "metadata": {
        "colab": {
          "base_uri": "https://localhost:8080/"
        },
        "id": "Wd4tPlkSrKFR",
        "outputId": "1741cab0-eee8-4796-8a98-d104dfd0e155"
      },
      "source": [
        "!python --version"
      ],
      "execution_count": null,
      "outputs": [
        {
          "output_type": "stream",
          "name": "stdout",
          "text": [
            "Python 3.7.11\n"
          ]
        }
      ]
    },
    {
      "cell_type": "code",
      "metadata": {
        "colab": {
          "base_uri": "https://localhost:8080/"
        },
        "id": "gYcp9-Ox90c1",
        "outputId": "398a078b-6fd6-472b-9a95-991df52e918d"
      },
      "source": [
        "\n",
        "data_path='/content/drive/MyDrive/DataSets'\n",
        "categories=os.listdir(data_path)\n",
        "labels=[i for i in range(len(categories))]\n",
        "\n",
        "label_dict=dict(zip(categories,labels))\n",
        "print(label_dict)\n",
        "print(categories)\n",
        "print(labels)"
      ],
      "execution_count": null,
      "outputs": [
        {
          "output_type": "stream",
          "name": "stdout",
          "text": [
            "{'Maskless': 0, 'Mask': 1}\n",
            "['Maskless', 'Mask']\n",
            "[0, 1]\n"
          ]
        }
      ]
    },
    {
      "cell_type": "code",
      "metadata": {
        "id": "HEGluX4OAbeO"
      },
      "source": [
        "img_size=100\n",
        "data=[]\n",
        "target=[]\n",
        "\n",
        "for category in categories:\n",
        "    folder_path=os.path.join(data_path,category)\n",
        "    img_names=os.listdir(folder_path)\n",
        "        \n",
        "    for img_name in img_names:\n",
        "        img_path=os.path.join(folder_path,img_name)\n",
        "        img=cv2.imread(img_path)\n",
        "\n",
        "        try:  \n",
        "            resized=cv2.resize(img,(img_size,img_size))\n",
        "           \n",
        "            data.append(resized)\n",
        "            target.append(label_dict[category])\n",
        "       \n",
        "        except Exception as e:\n",
        "            print('Exception:',e)"
      ],
      "execution_count": null,
      "outputs": []
    },
    {
      "cell_type": "code",
      "metadata": {
        "id": "OhyNCQQNA8oF"
      },
      "source": [
        "\n",
        "data=np.array(data)/255.0\n",
        "data=np.reshape(data,(data.shape[0],img_size,img_size,3))\n",
        "target=np.array(target)\n",
        "\n",
        "new_target=np_utils.to_categorical(target)"
      ],
      "execution_count": null,
      "outputs": []
    },
    {
      "cell_type": "code",
      "metadata": {
        "colab": {
          "base_uri": "https://localhost:8080/"
        },
        "id": "CTGN6yoLA-Ci",
        "outputId": "2ec4a6d1-a13d-46a4-d6b7-d119d8c11bbc"
      },
      "source": [
        "new_target.shape\n"
      ],
      "execution_count": null,
      "outputs": [
        {
          "output_type": "execute_result",
          "data": {
            "text/plain": [
              "(60, 2)"
            ]
          },
          "metadata": {},
          "execution_count": 122
        }
      ]
    },
    {
      "cell_type": "code",
      "metadata": {
        "colab": {
          "base_uri": "https://localhost:8080/"
        },
        "id": "-9d44WgZA_7F",
        "outputId": "512b9811-02a3-4a9d-a1b1-efc64c28426b"
      },
      "source": [
        "data.shape"
      ],
      "execution_count": null,
      "outputs": [
        {
          "output_type": "execute_result",
          "data": {
            "text/plain": [
              "(60, 100, 100, 3)"
            ]
          },
          "metadata": {},
          "execution_count": 123
        }
      ]
    },
    {
      "cell_type": "code",
      "metadata": {
        "id": "ndsuoicKBY7b"
      },
      "source": [
        "\n",
        "\n",
        "model=Sequential()\n",
        "\n",
        "model.add(Conv2D(200,(3,3),input_shape=data.shape[1:]))\n",
        "model.add(Activation('relu'))\n",
        "model.add(MaxPooling2D(pool_size=(2,2)))\n",
        "\n",
        "model.add(Conv2D(100,(3,3)))\n",
        "model.add(Activation('relu'))\n",
        "model.add(MaxPooling2D(pool_size=(2,2)))\n",
        "\n",
        "model.add(Flatten())\n",
        "model.add(Dropout(0.5))\n",
        "\n",
        "model.add(Dense(50,activation='relu'))\n",
        "\n",
        "model.add(Dense(2,activation='softmax'))\n",
        "\n",
        "\n",
        "model.compile(loss='categorical_crossentropy',optimizer='adam',metrics=['accuracy'])"
      ],
      "execution_count": null,
      "outputs": []
    },
    {
      "cell_type": "code",
      "metadata": {
        "colab": {
          "base_uri": "https://localhost:8080/"
        },
        "id": "TaGglherBkl9",
        "outputId": "4db04260-84e2-4180-94cf-365d3bd45c49"
      },
      "source": [
        "model.summary()"
      ],
      "execution_count": null,
      "outputs": [
        {
          "output_type": "stream",
          "name": "stdout",
          "text": [
            "Model: \"sequential_2\"\n",
            "_________________________________________________________________\n",
            "Layer (type)                 Output Shape              Param #   \n",
            "=================================================================\n",
            "conv2d_4 (Conv2D)            (None, 98, 98, 200)       5600      \n",
            "_________________________________________________________________\n",
            "activation_4 (Activation)    (None, 98, 98, 200)       0         \n",
            "_________________________________________________________________\n",
            "max_pooling2d_4 (MaxPooling2 (None, 49, 49, 200)       0         \n",
            "_________________________________________________________________\n",
            "conv2d_5 (Conv2D)            (None, 47, 47, 100)       180100    \n",
            "_________________________________________________________________\n",
            "activation_5 (Activation)    (None, 47, 47, 100)       0         \n",
            "_________________________________________________________________\n",
            "max_pooling2d_5 (MaxPooling2 (None, 23, 23, 100)       0         \n",
            "_________________________________________________________________\n",
            "flatten_2 (Flatten)          (None, 52900)             0         \n",
            "_________________________________________________________________\n",
            "dropout_2 (Dropout)          (None, 52900)             0         \n",
            "_________________________________________________________________\n",
            "dense_4 (Dense)              (None, 50)                2645050   \n",
            "_________________________________________________________________\n",
            "dense_5 (Dense)              (None, 2)                 102       \n",
            "=================================================================\n",
            "Total params: 2,830,852\n",
            "Trainable params: 2,830,852\n",
            "Non-trainable params: 0\n",
            "_________________________________________________________________\n"
          ]
        }
      ]
    },
    {
      "cell_type": "code",
      "metadata": {
        "id": "GGwfYrNqBmMe"
      },
      "source": [
        "\n",
        "train_data,test_data,train_target,test_target=train_test_split(data,new_target,test_size=0.2)"
      ],
      "execution_count": null,
      "outputs": []
    },
    {
      "cell_type": "code",
      "metadata": {
        "colab": {
          "base_uri": "https://localhost:8080/"
        },
        "id": "1OinbVVtBpEz",
        "outputId": "07ff811d-22bb-49b0-e0b7-b1f9b8cd26b0"
      },
      "source": [
        "train_data.shape"
      ],
      "execution_count": null,
      "outputs": [
        {
          "output_type": "execute_result",
          "data": {
            "text/plain": [
              "(48, 100, 100, 3)"
            ]
          },
          "metadata": {},
          "execution_count": 127
        }
      ]
    },
    {
      "cell_type": "code",
      "metadata": {
        "colab": {
          "base_uri": "https://localhost:8080/"
        },
        "id": "PpVlU661Bs_H",
        "outputId": "08f207d9-21a3-4b6e-9280-9040f5790aa3"
      },
      "source": [
        "train_target.shape"
      ],
      "execution_count": null,
      "outputs": [
        {
          "output_type": "execute_result",
          "data": {
            "text/plain": [
              "(48, 2)"
            ]
          },
          "metadata": {},
          "execution_count": 128
        }
      ]
    },
    {
      "cell_type": "code",
      "metadata": {
        "colab": {
          "base_uri": "https://localhost:8080/"
        },
        "id": "2fcPKBvaB0Ud",
        "outputId": "160873b2-befc-433c-eeef-c75bb7d51cec"
      },
      "source": [
        "history=model.fit(train_data,train_target,epochs=100,validation_split=0.2)"
      ],
      "execution_count": null,
      "outputs": [
        {
          "output_type": "stream",
          "name": "stdout",
          "text": [
            "Epoch 1/100\n",
            "2/2 [==============================] - 3s 837ms/step - loss: 0.3649 - accuracy: 0.9737 - val_loss: 1.0547 - val_accuracy: 0.5000\n",
            "Epoch 2/100\n",
            "2/2 [==============================] - 3s 692ms/step - loss: 0.3356 - accuracy: 0.9211 - val_loss: 0.9587 - val_accuracy: 0.5000\n",
            "Epoch 3/100\n",
            "2/2 [==============================] - 3s 691ms/step - loss: 0.2715 - accuracy: 0.8947 - val_loss: 1.0497 - val_accuracy: 0.5000\n",
            "Epoch 4/100\n",
            "2/2 [==============================] - 3s 682ms/step - loss: 0.2185 - accuracy: 0.8947 - val_loss: 1.1011 - val_accuracy: 0.5000\n",
            "Epoch 5/100\n",
            "2/2 [==============================] - 3s 681ms/step - loss: 0.1392 - accuracy: 0.9737 - val_loss: 1.3666 - val_accuracy: 0.4000\n",
            "Epoch 6/100\n",
            "2/2 [==============================] - 3s 681ms/step - loss: 0.1667 - accuracy: 0.9737 - val_loss: 1.3019 - val_accuracy: 0.5000\n",
            "Epoch 7/100\n",
            "2/2 [==============================] - 3s 682ms/step - loss: 0.1052 - accuracy: 1.0000 - val_loss: 1.4329 - val_accuracy: 0.5000\n",
            "Epoch 8/100\n",
            "2/2 [==============================] - 3s 687ms/step - loss: 0.0942 - accuracy: 0.9737 - val_loss: 1.4962 - val_accuracy: 0.5000\n",
            "Epoch 9/100\n",
            "2/2 [==============================] - 3s 688ms/step - loss: 0.0432 - accuracy: 1.0000 - val_loss: 1.7409 - val_accuracy: 0.6000\n",
            "Epoch 10/100\n",
            "2/2 [==============================] - 3s 691ms/step - loss: 0.0297 - accuracy: 1.0000 - val_loss: 1.8489 - val_accuracy: 0.6000\n",
            "Epoch 11/100\n",
            "2/2 [==============================] - 3s 696ms/step - loss: 0.0281 - accuracy: 1.0000 - val_loss: 1.8809 - val_accuracy: 0.5000\n",
            "Epoch 12/100\n",
            "2/2 [==============================] - 3s 711ms/step - loss: 0.0234 - accuracy: 1.0000 - val_loss: 1.9433 - val_accuracy: 0.4000\n",
            "Epoch 13/100\n",
            "2/2 [==============================] - 3s 690ms/step - loss: 0.0043 - accuracy: 1.0000 - val_loss: 2.0289 - val_accuracy: 0.5000\n",
            "Epoch 14/100\n",
            "2/2 [==============================] - 3s 684ms/step - loss: 0.0102 - accuracy: 1.0000 - val_loss: 2.0888 - val_accuracy: 0.5000\n",
            "Epoch 15/100\n",
            "2/2 [==============================] - 3s 683ms/step - loss: 0.0034 - accuracy: 1.0000 - val_loss: 2.1353 - val_accuracy: 0.5000\n",
            "Epoch 16/100\n",
            "2/2 [==============================] - 3s 691ms/step - loss: 0.0019 - accuracy: 1.0000 - val_loss: 2.6111 - val_accuracy: 0.5000\n",
            "Epoch 17/100\n",
            "2/2 [==============================] - 3s 702ms/step - loss: 0.0057 - accuracy: 1.0000 - val_loss: 2.4153 - val_accuracy: 0.4000\n",
            "Epoch 18/100\n",
            "2/2 [==============================] - 3s 691ms/step - loss: 4.0794e-04 - accuracy: 1.0000 - val_loss: 2.4661 - val_accuracy: 0.5000\n",
            "Epoch 19/100\n",
            "2/2 [==============================] - 3s 685ms/step - loss: 2.9328e-04 - accuracy: 1.0000 - val_loss: 2.5739 - val_accuracy: 0.5000\n",
            "Epoch 20/100\n",
            "2/2 [==============================] - 3s 687ms/step - loss: 7.3991e-04 - accuracy: 1.0000 - val_loss: 2.6489 - val_accuracy: 0.5000\n",
            "Epoch 21/100\n",
            "2/2 [==============================] - 3s 702ms/step - loss: 0.0014 - accuracy: 1.0000 - val_loss: 2.6752 - val_accuracy: 0.5000\n",
            "Epoch 22/100\n",
            "2/2 [==============================] - 3s 710ms/step - loss: 7.2411e-04 - accuracy: 1.0000 - val_loss: 2.7006 - val_accuracy: 0.5000\n",
            "Epoch 23/100\n",
            "2/2 [==============================] - 3s 685ms/step - loss: 4.9887e-04 - accuracy: 1.0000 - val_loss: 2.7412 - val_accuracy: 0.4000\n",
            "Epoch 24/100\n",
            "2/2 [==============================] - 3s 686ms/step - loss: 4.4222e-04 - accuracy: 1.0000 - val_loss: 2.7710 - val_accuracy: 0.4000\n",
            "Epoch 25/100\n",
            "2/2 [==============================] - 3s 691ms/step - loss: 1.6613e-04 - accuracy: 1.0000 - val_loss: 2.7764 - val_accuracy: 0.4000\n",
            "Epoch 26/100\n",
            "2/2 [==============================] - 3s 680ms/step - loss: 1.4409e-04 - accuracy: 1.0000 - val_loss: 2.7900 - val_accuracy: 0.5000\n",
            "Epoch 27/100\n",
            "2/2 [==============================] - 3s 679ms/step - loss: 3.1954e-04 - accuracy: 1.0000 - val_loss: 2.8016 - val_accuracy: 0.5000\n",
            "Epoch 28/100\n",
            "2/2 [==============================] - 3s 683ms/step - loss: 3.5518e-04 - accuracy: 1.0000 - val_loss: 2.8102 - val_accuracy: 0.5000\n",
            "Epoch 29/100\n",
            "2/2 [==============================] - 3s 688ms/step - loss: 1.9786e-04 - accuracy: 1.0000 - val_loss: 2.8192 - val_accuracy: 0.5000\n",
            "Epoch 30/100\n",
            "2/2 [==============================] - 3s 693ms/step - loss: 1.2151e-04 - accuracy: 1.0000 - val_loss: 2.8306 - val_accuracy: 0.5000\n",
            "Epoch 31/100\n",
            "2/2 [==============================] - 3s 695ms/step - loss: 1.6176e-04 - accuracy: 1.0000 - val_loss: 2.8403 - val_accuracy: 0.5000\n",
            "Epoch 32/100\n",
            "2/2 [==============================] - 3s 705ms/step - loss: 1.1602e-04 - accuracy: 1.0000 - val_loss: 2.8498 - val_accuracy: 0.5000\n",
            "Epoch 33/100\n",
            "2/2 [==============================] - 3s 693ms/step - loss: 2.0383e-04 - accuracy: 1.0000 - val_loss: 2.8636 - val_accuracy: 0.5000\n",
            "Epoch 34/100\n",
            "2/2 [==============================] - 3s 685ms/step - loss: 8.9018e-05 - accuracy: 1.0000 - val_loss: 2.8791 - val_accuracy: 0.5000\n",
            "Epoch 35/100\n",
            "2/2 [==============================] - 3s 687ms/step - loss: 1.2980e-04 - accuracy: 1.0000 - val_loss: 2.9003 - val_accuracy: 0.5000\n",
            "Epoch 36/100\n",
            "2/2 [==============================] - 3s 703ms/step - loss: 1.0717e-04 - accuracy: 1.0000 - val_loss: 2.9171 - val_accuracy: 0.5000\n",
            "Epoch 37/100\n",
            "2/2 [==============================] - 3s 694ms/step - loss: 6.1561e-05 - accuracy: 1.0000 - val_loss: 2.9281 - val_accuracy: 0.5000\n",
            "Epoch 38/100\n",
            "2/2 [==============================] - 3s 690ms/step - loss: 1.7337e-04 - accuracy: 1.0000 - val_loss: 2.9344 - val_accuracy: 0.5000\n",
            "Epoch 39/100\n",
            "2/2 [==============================] - 3s 685ms/step - loss: 8.3699e-05 - accuracy: 1.0000 - val_loss: 2.9433 - val_accuracy: 0.5000\n",
            "Epoch 40/100\n",
            "2/2 [==============================] - 3s 694ms/step - loss: 3.6168e-05 - accuracy: 1.0000 - val_loss: 2.9524 - val_accuracy: 0.5000\n",
            "Epoch 41/100\n",
            "2/2 [==============================] - 3s 695ms/step - loss: 6.1700e-05 - accuracy: 1.0000 - val_loss: 2.9589 - val_accuracy: 0.5000\n",
            "Epoch 42/100\n",
            "2/2 [==============================] - 3s 729ms/step - loss: 5.1458e-05 - accuracy: 1.0000 - val_loss: 2.9579 - val_accuracy: 0.5000\n",
            "Epoch 43/100\n",
            "2/2 [==============================] - 3s 673ms/step - loss: 8.4318e-05 - accuracy: 1.0000 - val_loss: 2.9544 - val_accuracy: 0.5000\n",
            "Epoch 44/100\n",
            "2/2 [==============================] - 3s 682ms/step - loss: 5.3530e-04 - accuracy: 1.0000 - val_loss: 2.9424 - val_accuracy: 0.5000\n",
            "Epoch 45/100\n",
            "2/2 [==============================] - 3s 684ms/step - loss: 1.1546e-04 - accuracy: 1.0000 - val_loss: 2.9451 - val_accuracy: 0.5000\n",
            "Epoch 46/100\n",
            "2/2 [==============================] - 3s 688ms/step - loss: 1.5465e-04 - accuracy: 1.0000 - val_loss: 2.9548 - val_accuracy: 0.5000\n",
            "Epoch 47/100\n",
            "2/2 [==============================] - 3s 686ms/step - loss: 7.5178e-05 - accuracy: 1.0000 - val_loss: 2.9634 - val_accuracy: 0.5000\n",
            "Epoch 48/100\n",
            "2/2 [==============================] - 3s 693ms/step - loss: 1.0667e-04 - accuracy: 1.0000 - val_loss: 2.9736 - val_accuracy: 0.5000\n",
            "Epoch 49/100\n",
            "2/2 [==============================] - 3s 704ms/step - loss: 1.7433e-04 - accuracy: 1.0000 - val_loss: 2.9819 - val_accuracy: 0.5000\n",
            "Epoch 50/100\n",
            "2/2 [==============================] - 3s 697ms/step - loss: 6.3560e-05 - accuracy: 1.0000 - val_loss: 2.9901 - val_accuracy: 0.5000\n",
            "Epoch 51/100\n",
            "2/2 [==============================] - 3s 686ms/step - loss: 9.7841e-05 - accuracy: 1.0000 - val_loss: 3.0000 - val_accuracy: 0.5000\n",
            "Epoch 52/100\n",
            "2/2 [==============================] - 3s 690ms/step - loss: 1.7734e-04 - accuracy: 1.0000 - val_loss: 3.0113 - val_accuracy: 0.5000\n",
            "Epoch 53/100\n",
            "2/2 [==============================] - 3s 714ms/step - loss: 1.4575e-04 - accuracy: 1.0000 - val_loss: 3.0246 - val_accuracy: 0.5000\n",
            "Epoch 54/100\n",
            "2/2 [==============================] - 3s 703ms/step - loss: 3.0951e-05 - accuracy: 1.0000 - val_loss: 3.0398 - val_accuracy: 0.6000\n",
            "Epoch 55/100\n",
            "2/2 [==============================] - 3s 689ms/step - loss: 1.6367e-04 - accuracy: 1.0000 - val_loss: 3.0637 - val_accuracy: 0.5000\n",
            "Epoch 56/100\n",
            "2/2 [==============================] - 3s 693ms/step - loss: 1.1460e-04 - accuracy: 1.0000 - val_loss: 3.0978 - val_accuracy: 0.5000\n",
            "Epoch 57/100\n",
            "2/2 [==============================] - 3s 700ms/step - loss: 1.0660e-04 - accuracy: 1.0000 - val_loss: 3.1298 - val_accuracy: 0.5000\n",
            "Epoch 58/100\n",
            "2/2 [==============================] - 3s 688ms/step - loss: 7.2639e-05 - accuracy: 1.0000 - val_loss: 3.1511 - val_accuracy: 0.5000\n",
            "Epoch 59/100\n",
            "2/2 [==============================] - 3s 683ms/step - loss: 1.0829e-04 - accuracy: 1.0000 - val_loss: 3.1587 - val_accuracy: 0.5000\n",
            "Epoch 60/100\n",
            "2/2 [==============================] - 3s 681ms/step - loss: 7.6248e-05 - accuracy: 1.0000 - val_loss: 3.1670 - val_accuracy: 0.5000\n",
            "Epoch 61/100\n",
            "2/2 [==============================] - 3s 686ms/step - loss: 2.1492e-04 - accuracy: 1.0000 - val_loss: 3.0975 - val_accuracy: 0.5000\n",
            "Epoch 62/100\n",
            "2/2 [==============================] - 3s 690ms/step - loss: 4.9424e-05 - accuracy: 1.0000 - val_loss: 3.0363 - val_accuracy: 0.5000\n",
            "Epoch 63/100\n",
            "2/2 [==============================] - 3s 676ms/step - loss: 3.7391e-05 - accuracy: 1.0000 - val_loss: 3.0192 - val_accuracy: 0.5000\n",
            "Epoch 64/100\n",
            "2/2 [==============================] - 3s 691ms/step - loss: 4.8413e-05 - accuracy: 1.0000 - val_loss: 3.0207 - val_accuracy: 0.5000\n",
            "Epoch 65/100\n",
            "2/2 [==============================] - 3s 685ms/step - loss: 1.2286e-04 - accuracy: 1.0000 - val_loss: 3.0298 - val_accuracy: 0.5000\n",
            "Epoch 66/100\n",
            "2/2 [==============================] - 3s 681ms/step - loss: 2.0111e-04 - accuracy: 1.0000 - val_loss: 3.0309 - val_accuracy: 0.5000\n",
            "Epoch 67/100\n",
            "2/2 [==============================] - 3s 679ms/step - loss: 8.6292e-05 - accuracy: 1.0000 - val_loss: 3.0325 - val_accuracy: 0.5000\n",
            "Epoch 68/100\n",
            "2/2 [==============================] - 3s 690ms/step - loss: 1.7281e-04 - accuracy: 1.0000 - val_loss: 3.0243 - val_accuracy: 0.5000\n",
            "Epoch 69/100\n",
            "2/2 [==============================] - 3s 708ms/step - loss: 1.7109e-04 - accuracy: 1.0000 - val_loss: 3.0140 - val_accuracy: 0.5000\n",
            "Epoch 70/100\n",
            "2/2 [==============================] - 3s 692ms/step - loss: 4.8558e-05 - accuracy: 1.0000 - val_loss: 3.0115 - val_accuracy: 0.5000\n",
            "Epoch 71/100\n",
            "2/2 [==============================] - 3s 699ms/step - loss: 1.1915e-04 - accuracy: 1.0000 - val_loss: 3.0097 - val_accuracy: 0.5000\n",
            "Epoch 72/100\n",
            "2/2 [==============================] - 3s 692ms/step - loss: 6.7007e-05 - accuracy: 1.0000 - val_loss: 3.0138 - val_accuracy: 0.6000\n",
            "Epoch 73/100\n",
            "2/2 [==============================] - 3s 690ms/step - loss: 4.1725e-05 - accuracy: 1.0000 - val_loss: 3.0246 - val_accuracy: 0.6000\n",
            "Epoch 74/100\n",
            "2/2 [==============================] - 3s 688ms/step - loss: 6.0617e-05 - accuracy: 1.0000 - val_loss: 3.0379 - val_accuracy: 0.5000\n",
            "Epoch 75/100\n",
            "2/2 [==============================] - 3s 689ms/step - loss: 1.8039e-04 - accuracy: 1.0000 - val_loss: 3.0452 - val_accuracy: 0.5000\n",
            "Epoch 76/100\n",
            "2/2 [==============================] - 3s 693ms/step - loss: 4.9057e-05 - accuracy: 1.0000 - val_loss: 3.0517 - val_accuracy: 0.5000\n",
            "Epoch 77/100\n",
            "2/2 [==============================] - 3s 692ms/step - loss: 6.4180e-05 - accuracy: 1.0000 - val_loss: 3.0569 - val_accuracy: 0.5000\n",
            "Epoch 78/100\n",
            "2/2 [==============================] - 3s 699ms/step - loss: 2.7918e-05 - accuracy: 1.0000 - val_loss: 3.0625 - val_accuracy: 0.5000\n",
            "Epoch 79/100\n",
            "2/2 [==============================] - 3s 715ms/step - loss: 7.0034e-05 - accuracy: 1.0000 - val_loss: 3.0682 - val_accuracy: 0.5000\n",
            "Epoch 80/100\n",
            "2/2 [==============================] - 3s 684ms/step - loss: 1.9738e-04 - accuracy: 1.0000 - val_loss: 3.0760 - val_accuracy: 0.5000\n",
            "Epoch 81/100\n",
            "2/2 [==============================] - 3s 691ms/step - loss: 6.8256e-05 - accuracy: 1.0000 - val_loss: 3.0848 - val_accuracy: 0.5000\n",
            "Epoch 82/100\n",
            "2/2 [==============================] - 3s 698ms/step - loss: 3.2966e-05 - accuracy: 1.0000 - val_loss: 3.0917 - val_accuracy: 0.5000\n",
            "Epoch 83/100\n",
            "2/2 [==============================] - 3s 681ms/step - loss: 2.9070e-05 - accuracy: 1.0000 - val_loss: 3.0969 - val_accuracy: 0.5000\n",
            "Epoch 84/100\n",
            "2/2 [==============================] - 3s 677ms/step - loss: 2.5469e-05 - accuracy: 1.0000 - val_loss: 3.0991 - val_accuracy: 0.5000\n",
            "Epoch 85/100\n",
            "2/2 [==============================] - 3s 676ms/step - loss: 6.6420e-05 - accuracy: 1.0000 - val_loss: 3.0999 - val_accuracy: 0.5000\n",
            "Epoch 86/100\n",
            "2/2 [==============================] - 3s 685ms/step - loss: 5.3092e-05 - accuracy: 1.0000 - val_loss: 3.1015 - val_accuracy: 0.5000\n",
            "Epoch 87/100\n",
            "2/2 [==============================] - 3s 689ms/step - loss: 1.9339e-05 - accuracy: 1.0000 - val_loss: 3.1027 - val_accuracy: 0.5000\n",
            "Epoch 88/100\n",
            "2/2 [==============================] - 3s 689ms/step - loss: 3.1756e-05 - accuracy: 1.0000 - val_loss: 3.1022 - val_accuracy: 0.5000\n",
            "Epoch 89/100\n",
            "2/2 [==============================] - 3s 696ms/step - loss: 3.1537e-05 - accuracy: 1.0000 - val_loss: 3.1032 - val_accuracy: 0.5000\n",
            "Epoch 90/100\n",
            "2/2 [==============================] - 3s 692ms/step - loss: 1.7344e-05 - accuracy: 1.0000 - val_loss: 3.1050 - val_accuracy: 0.5000\n",
            "Epoch 91/100\n",
            "2/2 [==============================] - 3s 688ms/step - loss: 2.4538e-05 - accuracy: 1.0000 - val_loss: 3.1070 - val_accuracy: 0.5000\n",
            "Epoch 92/100\n",
            "2/2 [==============================] - 3s 684ms/step - loss: 2.2560e-05 - accuracy: 1.0000 - val_loss: 3.1095 - val_accuracy: 0.5000\n",
            "Epoch 93/100\n",
            "2/2 [==============================] - 3s 692ms/step - loss: 5.2461e-05 - accuracy: 1.0000 - val_loss: 3.1132 - val_accuracy: 0.5000\n",
            "Epoch 94/100\n",
            "2/2 [==============================] - 3s 694ms/step - loss: 4.5577e-05 - accuracy: 1.0000 - val_loss: 3.1173 - val_accuracy: 0.5000\n",
            "Epoch 95/100\n",
            "2/2 [==============================] - 3s 694ms/step - loss: 2.6912e-05 - accuracy: 1.0000 - val_loss: 3.1193 - val_accuracy: 0.5000\n",
            "Epoch 96/100\n",
            "2/2 [==============================] - 3s 690ms/step - loss: 4.6307e-05 - accuracy: 1.0000 - val_loss: 3.1243 - val_accuracy: 0.5000\n",
            "Epoch 97/100\n",
            "2/2 [==============================] - 3s 697ms/step - loss: 2.4254e-05 - accuracy: 1.0000 - val_loss: 3.1305 - val_accuracy: 0.5000\n",
            "Epoch 98/100\n",
            "2/2 [==============================] - 3s 703ms/step - loss: 1.9022e-05 - accuracy: 1.0000 - val_loss: 3.1358 - val_accuracy: 0.5000\n",
            "Epoch 99/100\n",
            "2/2 [==============================] - 3s 690ms/step - loss: 2.1017e-05 - accuracy: 1.0000 - val_loss: 3.1424 - val_accuracy: 0.5000\n",
            "Epoch 100/100\n",
            "2/2 [==============================] - 3s 676ms/step - loss: 3.6327e-05 - accuracy: 1.0000 - val_loss: 3.1519 - val_accuracy: 0.5000\n"
          ]
        }
      ]
    },
    {
      "cell_type": "code",
      "metadata": {
        "colab": {
          "base_uri": "https://localhost:8080/"
        },
        "id": "5Qt-CYnXSCJz",
        "outputId": "f6d4da24-b77f-4672-c637-3340fec07a28"
      },
      "source": [
        "model.evaluate(test_data,test_target)\n"
      ],
      "execution_count": null,
      "outputs": [
        {
          "output_type": "stream",
          "name": "stdout",
          "text": [
            "1/1 [==============================] - 0s 363ms/step - loss: 1.1157 - accuracy: 0.6667\n"
          ]
        },
        {
          "output_type": "execute_result",
          "data": {
            "text/plain": [
              "[1.1157169342041016, 0.6666666865348816]"
            ]
          },
          "metadata": {},
          "execution_count": 154
        }
      ]
    },
    {
      "cell_type": "code",
      "metadata": {
        "id": "ir6X_o2_TA_Q"
      },
      "source": [
        ""
      ],
      "execution_count": null,
      "outputs": []
    },
    {
      "cell_type": "code",
      "metadata": {
        "id": "IUn2Mxv6Ef_1"
      },
      "source": [
        "model.save('model.h5')"
      ],
      "execution_count": null,
      "outputs": []
    },
    {
      "cell_type": "code",
      "metadata": {
        "id": "fVOytRj1_GFf"
      },
      "source": [
        "from keras.preprocessing import image"
      ],
      "execution_count": null,
      "outputs": []
    },
    {
      "cell_type": "code",
      "metadata": {
        "id": "DJXUcUT--9Vy"
      },
      "source": [
        "model=load_model('model.h5')"
      ],
      "execution_count": null,
      "outputs": []
    },
    {
      "cell_type": "code",
      "metadata": {
        "id": "tcJJtZ6A_0Yj",
        "colab": {
          "base_uri": "https://localhost:8080/",
          "height": 285
        },
        "outputId": "475a5225-b4d7-4e60-c62d-e38d6fc73c29"
      },
      "source": [
        "i=image.load_img('Mask/1 (16).jpg',target_size=(100,100))\n",
        "plt.imshow(i)"
      ],
      "execution_count": null,
      "outputs": [
        {
          "output_type": "execute_result",
          "data": {
            "text/plain": [
              "<matplotlib.image.AxesImage at 0x7f6dab6c4810>"
            ]
          },
          "metadata": {},
          "execution_count": 206
        },
        {
          "output_type": "display_data",
          "data": {
            "image/png": "[encoded data removed]",
            "text/plain": [
              "<Figure size 432x288 with 1 Axes>"
            ]
          },
          "metadata": {
            "needs_background": "light"
          }
        }
      ]
    },
    {
      "cell_type": "code",
      "metadata": {
        "colab": {
          "base_uri": "https://localhost:8080/"
        },
        "id": "1uwcMZnrACEl",
        "outputId": "1ba723c7-c504-449c-bcfe-30dd0af164da"
      },
      "source": [
        "i=image.img_to_array(i)/255.0\n",
        "i=i.reshape(1,100,100,3)\n",
        "p=model.predict(i)\n",
        "print(p)"
      ],
      "execution_count": null,
      "outputs": [
        {
          "output_type": "stream",
          "name": "stdout",
          "text": [
            "[[8.987732e-10 1.000000e+00]]\n"
          ]
        }
      ]
    },
    {
      "cell_type": "code",
      "metadata": {
        "id": "nWn5aRZFQULt",
        "colab": {
          "base_uri": "https://localhost:8080/"
        },
        "outputId": "ae0ab311-6c22-494c-eab0-c2bd648d480a"
      },
      "source": [
        "print(p[0][0]<p[0][1])"
      ],
      "execution_count": null,
      "outputs": [
        {
          "output_type": "stream",
          "name": "stdout",
          "text": [
            "True\n"
          ]
        }
      ]
    }
  ]
}